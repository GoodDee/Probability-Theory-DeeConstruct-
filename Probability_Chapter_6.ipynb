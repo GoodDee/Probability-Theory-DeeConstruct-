{
  "nbformat": 4,
  "nbformat_minor": 0,
  "metadata": {
    "colab": {
      "name": "Probability_Chapter_6.ipynb",
      "provenance": []
    },
    "kernelspec": {
      "name": "python3",
      "display_name": "Python 3"
    }
  },
  "cells": [
    {
      "cell_type": "markdown",
      "metadata": {
        "id": "RGlX7ObmCV9V"
      },
      "source": [
        "#Probability Theory Chapter 6: Large Random Samples\n",
        "##Applications: Simulations"
      ]
    },
    {
      "cell_type": "markdown",
      "metadata": {
        "id": "mmYGz254CeU-"
      },
      "source": [
        "**Objectives**  \n",
        "1) Simulate the normal distribution with varying number of samples using matplotlib  \n",
        "2) Show that Central Limit Theorem (CLT) is a universal rule, regardless of the distribution  \n",
        "3) Show the distribution of bivariate normal distributions by tweaking parameters  \n",
        "4) Understand the delta method by exploring various possible functions"
      ]
    },
    {
      "cell_type": "code",
      "metadata": {
        "id": "LV4JgHZ531FH"
      },
      "source": [
        "import numpy as np\n",
        "import matplotlib.pyplot as plt"
      ],
      "execution_count": 1,
      "outputs": []
    },
    {
      "cell_type": "code",
      "metadata": {
        "id": "kun2wl3E356D"
      },
      "source": [
        "def repeat_normal(n, num_trials):\n",
        "  plot_list = []\n",
        "  for i in range(num_trials):\n",
        "    x = np.random.randn(n)\n",
        "    plot_list.append(np.sum(x)/n)\n",
        "  return plot_list\n"
      ],
      "execution_count": 7,
      "outputs": []
    },
    {
      "cell_type": "code",
      "metadata": {
        "id": "ewMHiyVr4qJy"
      },
      "source": [
        "num_trials = 1000\n",
        "n_list = [1, 10, 30, 100, 1000]\n",
        "sim_list = []\n",
        "for n in n_list:\n",
        "  sim_list.append(repeat_normal(n, num_trials))"
      ],
      "execution_count": 8,
      "outputs": []
    },
    {
      "cell_type": "code",
      "metadata": {
        "id": "qpwUukDy5B4A",
        "outputId": "f41313fb-f9fe-4ef4-85aa-a38e3cfb6b58",
        "colab": {
          "base_uri": "https://localhost:8080/",
          "height": 281
        }
      },
      "source": [
        "plt.hist(sim_list[0], bins = 20)\n",
        "plt.title(\"Normal Distribution when n = 1\")\n",
        "axes = plt.gca()\n",
        "axes.set_xlim([-3,3])\n",
        "plt.show()\n"
      ],
      "execution_count": 14,
      "outputs": [
        {
          "output_type": "display_data",
          "data": {
            "image/png": "[encoded data removed]",
            "text/plain": [
              "<Figure size 432x288 with 1 Axes>"
            ]
          },
          "metadata": {
            "tags": [],
            "needs_background": "light"
          }
        }
      ]
    },
    {
      "cell_type": "code",
      "metadata": {
        "id": "2P0GgE5J5hJw",
        "outputId": "1bb70806-4bbf-4b86-adfa-d451e0eda62b",
        "colab": {
          "base_uri": "https://localhost:8080/",
          "height": 281
        }
      },
      "source": [
        "plt.hist(sim_list[1], bins = 20)\n",
        "plt.title(\"Normal Distribution when n = 10\")\n",
        "axes = plt.gca()\n",
        "axes.set_xlim([-3,3])\n",
        "plt.show()"
      ],
      "execution_count": 15,
      "outputs": [
        {
          "output_type": "display_data",
          "data": {
            "image/png": "[encoded data removed]",
            "text/plain": [
              "<Figure size 432x288 with 1 Axes>"
            ]
          },
          "metadata": {
            "tags": [],
            "needs_background": "light"
          }
        }
      ]
    },
    {
      "cell_type": "code",
      "metadata": {
        "id": "eAc8WhPd6CTJ",
        "outputId": "18ddfce7-3bf3-464a-bc92-4fc72baba85b",
        "colab": {
          "base_uri": "https://localhost:8080/",
          "height": 281
        }
      },
      "source": [
        "plt.hist(sim_list[2], bins = 20)\n",
        "plt.title(\"Normal Distribution when n = 30\")\n",
        "axes = plt.gca()\n",
        "axes.set_xlim([-3,3])\n",
        "plt.show()"
      ],
      "execution_count": 16,
      "outputs": [
        {
          "output_type": "display_data",
          "data": {
            "image/png": "[encoded data removed]",
            "text/plain": [
              "<Figure size 432x288 with 1 Axes>"
            ]
          },
          "metadata": {
            "tags": [],
            "needs_background": "light"
          }
        }
      ]
    },
    {
      "cell_type": "code",
      "metadata": {
        "id": "REfzyUmM6NLY",
        "outputId": "bd1b2ab7-b012-457d-9a91-ac5a72cb32e4",
        "colab": {
          "base_uri": "https://localhost:8080/",
          "height": 281
        }
      },
      "source": [
        "plt.hist(sim_list[3], bins = 20)\n",
        "plt.title(\"Normal Distribution when n = 100\")\n",
        "axes = plt.gca()\n",
        "axes.set_xlim([-3,3])\n",
        "plt.show()"
      ],
      "execution_count": 17,
      "outputs": [
        {
          "output_type": "display_data",
          "data": {
            "image/png": "[encoded data removed]",
            "text/plain": [
              "<Figure size 432x288 with 1 Axes>"
            ]
          },
          "metadata": {
            "tags": [],
            "needs_background": "light"
          }
        }
      ]
    },
    {
      "cell_type": "code",
      "metadata": {
        "id": "aOY10XpJ6PsY",
        "outputId": "fc2b4255-cfa8-4ca9-b088-74ac37d8e2f4",
        "colab": {
          "base_uri": "https://localhost:8080/",
          "height": 281
        }
      },
      "source": [
        "plt.hist(sim_list[4], bins = 20)\n",
        "plt.title(\"Normal Distribution when n = 1000\")\n",
        "axes = plt.gca()\n",
        "axes.set_xlim([-3,3])\n",
        "plt.show()"
      ],
      "execution_count": 18,
      "outputs": [
        {
          "output_type": "display_data",
          "data": {
            "image/png": "[encoded data removed]",
            "text/plain": [
              "<Figure size 432x288 with 1 Axes>"
            ]
          },
          "metadata": {
            "tags": [],
            "needs_background": "light"
          }
        }
      ]
    },
    {
      "cell_type": "markdown",
      "metadata": {
        "id": "R3Oq4ReeEKwm"
      },
      "source": [
        "As number of trials increase, you should expect that they become more clustered together. In other word, mean stays the same, but variance decreases proportional to square root of number of samples. But does this apply for other distribution, like exponential distribution?"
      ]
    },
    {
      "cell_type": "code",
      "metadata": {
        "id": "9mvC4oJ46oKj"
      },
      "source": [
        "def repeat_exp(n, num_trials):\n",
        "  plot_list = []\n",
        "  for i in range(num_trials):\n",
        "    x = np.random.exponential(size=n)\n",
        "    plot_list.append(np.mean(x))\n",
        "  return plot_list\n",
        "\n",
        "num_trials = 1000\n",
        "n_list = [1, 10, 30, 100, 1000]\n",
        "sim_list = []\n",
        "for n in n_list:\n",
        "  sim_list.append(repeat_exp(n, num_trials))"
      ],
      "execution_count": 32,
      "outputs": []
    },
    {
      "cell_type": "code",
      "metadata": {
        "id": "EgMnF6Im7CKw",
        "outputId": "7d1f4d12-e385-42c2-e0ea-9645e71b9c3e",
        "colab": {
          "base_uri": "https://localhost:8080/",
          "height": 281
        }
      },
      "source": [
        "plt.hist(sim_list[0], bins = 20)\n",
        "plt.title(\"Exponential Distribution when n = 1\")\n",
        "axes = plt.gca()\n",
        "axes.set_xlim([-2,5])\n",
        "plt.show()"
      ],
      "execution_count": 33,
      "outputs": [
        {
          "output_type": "display_data",
          "data": {
            "image/png": "[encoded data removed]",
            "text/plain": [
              "<Figure size 432x288 with 1 Axes>"
            ]
          },
          "metadata": {
            "tags": [],
            "needs_background": "light"
          }
        }
      ]
    },
    {
      "cell_type": "code",
      "metadata": {
        "id": "Oca_F1Uy7I3n",
        "outputId": "79bb1fe4-9e63-46f2-96cd-bace358a04d7",
        "colab": {
          "base_uri": "https://localhost:8080/",
          "height": 281
        }
      },
      "source": [
        "plt.hist(sim_list[1], bins = 20)\n",
        "plt.title(\"Exponential Distribution when n = 10\")\n",
        "axes = plt.gca()\n",
        "axes.set_xlim([-2,5])\n",
        "plt.show()"
      ],
      "execution_count": 34,
      "outputs": [
        {
          "output_type": "display_data",
          "data": {
            "image/png": "[encoded data removed]",
            "text/plain": [
              "<Figure size 432x288 with 1 Axes>"
            ]
          },
          "metadata": {
            "tags": [],
            "needs_background": "light"
          }
        }
      ]
    },
    {
      "cell_type": "code",
      "metadata": {
        "id": "s392GBRf740q",
        "outputId": "32daefc3-f1db-4dbc-c07e-d3790e5ed159",
        "colab": {
          "base_uri": "https://localhost:8080/",
          "height": 281
        }
      },
      "source": [
        "plt.hist(sim_list[2], bins = 20)\n",
        "plt.title(\"Exponential Distribution when n = 30\")\n",
        "axes = plt.gca()\n",
        "axes.set_xlim([-2,5])\n",
        "plt.show()"
      ],
      "execution_count": 35,
      "outputs": [
        {
          "output_type": "display_data",
          "data": {
            "image/png": "[encoded data removed]",
            "text/plain": [
              "<Figure size 432x288 with 1 Axes>"
            ]
          },
          "metadata": {
            "tags": [],
            "needs_background": "light"
          }
        }
      ]
    },
    {
      "cell_type": "code",
      "metadata": {
        "id": "55r5FsYJ77Ho",
        "outputId": "876f98a1-55df-48a2-8bd7-79915d6ce2e6",
        "colab": {
          "base_uri": "https://localhost:8080/",
          "height": 281
        }
      },
      "source": [
        "plt.hist(sim_list[3], bins = 20)\n",
        "plt.title(\"Exponential Distribution when n = 100\")\n",
        "axes = plt.gca()\n",
        "axes.set_xlim([-2,5])\n",
        "plt.show()"
      ],
      "execution_count": 36,
      "outputs": [
        {
          "output_type": "display_data",
          "data": {
            "image/png": "[encoded data removed]",
            "text/plain": [
              "<Figure size 432x288 with 1 Axes>"
            ]
          },
          "metadata": {
            "tags": [],
            "needs_background": "light"
          }
        }
      ]
    },
    {
      "cell_type": "code",
      "metadata": {
        "id": "2OXQYOZ_78__",
        "outputId": "eb38c70d-5598-4bed-c197-6c8733d95c4d",
        "colab": {
          "base_uri": "https://localhost:8080/",
          "height": 281
        }
      },
      "source": [
        "plt.hist(sim_list[4], bins = 20)\n",
        "plt.title(\"Exponential Distribution when n = 1000\")\n",
        "axes = plt.gca()\n",
        "axes.set_xlim([-2,5])\n",
        "plt.show()"
      ],
      "execution_count": 37,
      "outputs": [
        {
          "output_type": "display_data",
          "data": {
            "image/png": "[encoded data removed]",
            "text/plain": [
              "<Figure size 432x288 with 1 Axes>"
            ]
          },
          "metadata": {
            "tags": [],
            "needs_background": "light"
          }
        }
      ]
    },
    {
      "cell_type": "markdown",
      "metadata": {
        "id": "pFnl1ipIEYve"
      },
      "source": [
        "Central Limit Theorem (CLT) is a universal rule. It applies no matter what distribution you plug in."
      ]
    },
    {
      "cell_type": "code",
      "metadata": {
        "id": "5JsSiDTL9zEG"
      },
      "source": [
        "from scipy.stats import multivariate_normal\n",
        "mu = np.array([0, 0])\n",
        "sigma = np.array([[1, 0], [0, 1]])\n",
        "F = multivariate_normal(mu, sigma)"
      ],
      "execution_count": 38,
      "outputs": []
    },
    {
      "cell_type": "code",
      "metadata": {
        "id": "SWVadyiH-DYu",
        "outputId": "e2277607-1674-45fb-d20c-144d5bb482d8",
        "colab": {
          "base_uri": "https://localhost:8080/",
          "height": 500
        }
      },
      "source": [
        "# Original code from https://stackoverflow.com/questions/53481961/contour-plot-of-multivariate-distribution\n",
        "\n",
        "N = 10000\n",
        "\n",
        "mean_a = [0, 0]\n",
        "cov_a = [[1, 0], [0, 1]]\n",
        "\n",
        "Xa = np.random.multivariate_normal(mean_a, cov_a, N)\n",
        "fig, ax3 = plt.subplots(nrows=1,ncols=1,figsize=(15,8))\n",
        "\n",
        "(counts, x_bins, y_bins) = np.histogram2d(Xa[:, 0], Xa[:, 1])\n",
        "ax3.contourf(counts, extent=[x_bins[0], x_bins[-1], y_bins[0], y_bins[-1]])"
      ],
      "execution_count": 48,
      "outputs": [
        {
          "output_type": "execute_result",
          "data": {
            "text/plain": [
              "<matplotlib.contour.QuadContourSet at 0x7fe27fbb0128>"
            ]
          },
          "metadata": {
            "tags": []
          },
          "execution_count": 48
        },
        {
          "output_type": "display_data",
          "data": {
            "image/png": "[encoded data removed]",
            "text/plain": [
              "<Figure size 1080x576 with 1 Axes>"
            ]
          },
          "metadata": {
            "tags": [],
            "needs_background": "light"
          }
        }
      ]
    },
    {
      "cell_type": "markdown",
      "metadata": {
        "id": "691RxxwUEeHd"
      },
      "source": [
        "You have seen how the contour map of bivariate normal distribution changes when we tweaked mean and covariance matrix parameters."
      ]
    },
    {
      "cell_type": "code",
      "metadata": {
        "id": "o1xqjgn889K4"
      },
      "source": [
        "def delta_sim(array, func, derivative_func, mu):\n",
        "  mean = np.mean(array)\n",
        "  SD = np.std(array)/np.sqrt(len(array))\n",
        "  const = derivative_func(mu)\n",
        "  return (func(mean) - func(mu)) / (SD*const)\n"
      ],
      "execution_count": 49,
      "outputs": []
    },
    {
      "cell_type": "code",
      "metadata": {
        "id": "UqLJHjMRAZXY"
      },
      "source": [
        "num_trials = 30\n",
        "square_trials = []\n",
        "\n",
        "for i in range(num_trials):\n",
        "  random_trial = np.random.randn(1000) + 1\n",
        "  square_trial = delta_sim(random_trial, lambda x: x**2, lambda x: 2*x, 1)\n",
        "  square_trials.append(square_trial)\n"
      ],
      "execution_count": 89,
      "outputs": []
    },
    {
      "cell_type": "code",
      "metadata": {
        "id": "ZdRORF1VA9IR",
        "outputId": "37e45265-c2a3-44c1-ee93-f436a6f5239f",
        "colab": {
          "base_uri": "https://localhost:8080/",
          "height": 281
        }
      },
      "source": [
        "plt.hist(square_trials, bins = 20)\n",
        "plt.title(\"Square of normal distributions normalized\")\n",
        "axes = plt.gca()\n",
        "axes.set_xlim([-4,4])\n",
        "plt.show()"
      ],
      "execution_count": 90,
      "outputs": [
        {
          "output_type": "display_data",
          "data": {
            "image/png": "[encoded data removed]",
            "text/plain": [
              "<Figure size 432x288 with 1 Axes>"
            ]
          },
          "metadata": {
            "tags": [],
            "needs_background": "light"
          }
        }
      ]
    },
    {
      "cell_type": "code",
      "metadata": {
        "id": "MW1fHb_AC2xQ"
      },
      "source": [
        "square_trials = []\n",
        "\n",
        "for i in range(num_trials):\n",
        "  random_trial = np.random.exponential(scale = 1, size = 1000)\n",
        "  square_trial = delta_sim(random_trial, lambda x: x**0.5, lambda x: 0.5*(x**(-0.5)), 1)\n",
        "  square_trials.append(square_trial)"
      ],
      "execution_count": 72,
      "outputs": []
    },
    {
      "cell_type": "code",
      "metadata": {
        "id": "j-aOVCsMC_NN",
        "outputId": "1ef0c8aa-3ab2-4297-9730-f8bc32799534",
        "colab": {
          "base_uri": "https://localhost:8080/",
          "height": 281
        }
      },
      "source": [
        "plt.hist(square_trials, bins = 20)\n",
        "plt.title(\"Square Root of exponential distributions normalized\")\n",
        "axes = plt.gca()\n",
        "axes.set_xlim([-4,4])\n",
        "plt.show()"
      ],
      "execution_count": 73,
      "outputs": [
        {
          "output_type": "display_data",
          "data": {
            "image/png": "[encoded data removed]",
            "text/plain": [
              "<Figure size 432x288 with 1 Axes>"
            ]
          },
          "metadata": {
            "tags": [],
            "needs_background": "light"
          }
        }
      ]
    },
    {
      "cell_type": "code",
      "metadata": {
        "id": "Q8sqt1ibDcMF"
      },
      "source": [
        "square_trials = []\n",
        "\n",
        "for i in range(num_trials):\n",
        "  random_trial = np.random.uniform(size = 1000)\n",
        "  square_trial = delta_sim(random_trial, lambda x: np.log(x), lambda x: 1/x, 0.5)\n",
        "  square_trials.append(square_trial)"
      ],
      "execution_count": 79,
      "outputs": []
    },
    {
      "cell_type": "code",
      "metadata": {
        "id": "sUk31SZPDjyV",
        "outputId": "b595f381-48a9-4cb0-c577-e7180724b284",
        "colab": {
          "base_uri": "https://localhost:8080/",
          "height": 281
        }
      },
      "source": [
        "plt.hist(square_trials, bins = 20)\n",
        "plt.title(\"Logarithm of exponential distributions normalized\")\n",
        "axes = plt.gca()\n",
        "axes.set_xlim([-4,4])\n",
        "plt.show()"
      ],
      "execution_count": 80,
      "outputs": [
        {
          "output_type": "display_data",
          "data": {
            "image/png": "[encoded data removed]",
            "text/plain": [
              "<Figure size 432x288 with 1 Axes>"
            ]
          },
          "metadata": {
            "tags": [],
            "needs_background": "light"
          }
        }
      ]
    },
    {
      "cell_type": "markdown",
      "metadata": {
        "id": "Xy3vFbbxEoxF"
      },
      "source": [
        "You have seen that by applying delta method, we could get back approximately normal distribution whatever function we applied to the sample mean. The only condition is that the function should be differentiable. However, the rate that it converges to normal distribution could be slow for some distributions."
      ]
    }
  ]
}