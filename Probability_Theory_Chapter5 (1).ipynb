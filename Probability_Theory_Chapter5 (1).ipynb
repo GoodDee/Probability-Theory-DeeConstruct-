{
  "nbformat": 4,
  "nbformat_minor": 0,
  "metadata": {
    "colab": {
      "name": "Probability_Theory_Chapter5.ipynb",
      "provenance": []
    },
    "kernelspec": {
      "name": "python3",
      "display_name": "Python 3"
    }
  },
  "cells": [
    {
      "cell_type": "markdown",
      "metadata": {
        "id": "czgoEOI3_p_5"
      },
      "source": [
        "#Probability Theory Chapter 5: Special Distributions\n",
        "##Applications: Applying Normal Distributions to SET Index"
      ]
    },
    {
      "cell_type": "markdown",
      "metadata": {
        "id": "O8-nvEQC_2sk"
      },
      "source": [
        "**Objectives**  \n",
        "1) Simulate the normal distribution using matplotlib  \n",
        "2) Visualize daily return and log return from SET Index  \n",
        "3) Get sample moments from daily return and log return  \n",
        "4) Understand what happened to SET index during this year"
      ]
    },
    {
      "cell_type": "code",
      "metadata": {
        "id": "4WeVf4iwtedp"
      },
      "source": [
        "import numpy as np\n",
        "import matplotlib.pyplot as plt\n",
        "from scipy import stats"
      ],
      "execution_count": null,
      "outputs": []
    },
    {
      "cell_type": "code",
      "metadata": {
        "id": "nqujy-SxuDP_",
        "outputId": "b53f1d87-b920-490c-d86c-3110e3a00e18",
        "colab": {
          "base_uri": "https://localhost:8080/",
          "height": 264
        }
      },
      "source": [
        "N = 1000  # number of samples\n",
        "x = np.random.randn(N) # use numpy random documentation to get sample from random distribution\n",
        "\n",
        "num_bins = 20 # Define number of bins\n",
        "plt.hist(x, bins=num_bins) # plot histogram using matplotlib\n",
        "\n",
        "y = np.linspace(-4, 4, 100) # Return evenly spaced numbers over a specified interval\n",
        "bin_width = (x.max() - x.min()) / num_bins\n",
        "\n",
        "plt.plot(y, stats.norm.pdf(y) * N * bin_width) # Plot normal curve using p.d.f. calculated from scipy stats\n",
        "\n",
        "plt.show()"
      ],
      "execution_count": null,
      "outputs": [
        {
          "output_type": "display_data",
          "data": {
            "image/png": "[encoded data removed]",
            "text/plain": [
              "<Figure size 432x288 with 1 Axes>"
            ]
          },
          "metadata": {
            "tags": [],
            "needs_background": "light"
          }
        }
      ]
    },
    {
      "cell_type": "markdown",
      "metadata": {
        "id": "ZYICKr1NBuEM"
      },
      "source": [
        "We can see the simulation of normal distribution with the true distribution. It is pretty close as the number of samples is large (1000)."
      ]
    },
    {
      "cell_type": "code",
      "metadata": {
        "id": "GPeW2zD6zZyl"
      },
      "source": [
        "import pandas as pd"
      ],
      "execution_count": null,
      "outputs": []
    },
    {
      "cell_type": "code",
      "metadata": {
        "id": "ON4qfzYezcwR",
        "outputId": "a4bb0334-036c-4ca0-aad7-4e1ba4e11640",
        "colab": {
          "base_uri": "https://localhost:8080/",
          "height": 227
        }
      },
      "source": [
        "df = pd.read_csv(\"assets/SET_2020.csv\", index_col = [\"Date\"])\n",
        "df.head()"
      ],
      "execution_count": null,
      "outputs": [
        {
          "output_type": "execute_result",
          "data": {
            "text/html": [
              "<div>\n",
              "<style scoped>\n",
              "    .dataframe tbody tr th:only-of-type {\n",
              "        vertical-align: middle;\n",
              "    }\n",
              "\n",
              "    .dataframe tbody tr th {\n",
              "        vertical-align: top;\n",
              "    }\n",
              "\n",
              "    .dataframe thead th {\n",
              "        text-align: right;\n",
              "    }\n",
              "</style>\n",
              "<table border=\"1\" class=\"dataframe\">\n",
              "  <thead>\n",
              "    <tr style=\"text-align: right;\">\n",
              "      <th></th>\n",
              "      <th>SET_INDEX</th>\n",
              "    </tr>\n",
              "    <tr>\n",
              "      <th>Date</th>\n",
              "      <th></th>\n",
              "    </tr>\n",
              "  </thead>\n",
              "  <tbody>\n",
              "    <tr>\n",
              "      <th>20-01-07</th>\n",
              "      <td>1585.23</td>\n",
              "    </tr>\n",
              "    <tr>\n",
              "      <th>20-01-08</th>\n",
              "      <td>1559.27</td>\n",
              "    </tr>\n",
              "    <tr>\n",
              "      <th>20-01-09</th>\n",
              "      <td>1579.64</td>\n",
              "    </tr>\n",
              "    <tr>\n",
              "      <th>20-01-10</th>\n",
              "      <td>1580.63</td>\n",
              "    </tr>\n",
              "    <tr>\n",
              "      <th>20-01-13</th>\n",
              "      <td>1586.16</td>\n",
              "    </tr>\n",
              "  </tbody>\n",
              "</table>\n",
              "</div>"
            ],
            "text/plain": [
              "          SET_INDEX\n",
              "Date               \n",
              "20-01-07    1585.23\n",
              "20-01-08    1559.27\n",
              "20-01-09    1579.64\n",
              "20-01-10    1580.63\n",
              "20-01-13    1586.16"
            ]
          },
          "metadata": {
            "tags": []
          },
          "execution_count": 7
        }
      ]
    },
    {
      "cell_type": "code",
      "metadata": {
        "id": "10qI0gH7z1zQ",
        "outputId": "faff373d-c916-4df3-c8ed-3e6c05484b41",
        "colab": {
          "base_uri": "https://localhost:8080/",
          "height": 227
        }
      },
      "source": [
        "df['daily_return'] = df['SET_INDEX'].pct_change(1)\n",
        "df.head()"
      ],
      "execution_count": null,
      "outputs": [
        {
          "output_type": "execute_result",
          "data": {
            "text/html": [
              "<div>\n",
              "<style scoped>\n",
              "    .dataframe tbody tr th:only-of-type {\n",
              "        vertical-align: middle;\n",
              "    }\n",
              "\n",
              "    .dataframe tbody tr th {\n",
              "        vertical-align: top;\n",
              "    }\n",
              "\n",
              "    .dataframe thead th {\n",
              "        text-align: right;\n",
              "    }\n",
              "</style>\n",
              "<table border=\"1\" class=\"dataframe\">\n",
              "  <thead>\n",
              "    <tr style=\"text-align: right;\">\n",
              "      <th></th>\n",
              "      <th>SET_INDEX</th>\n",
              "      <th>daily_return</th>\n",
              "    </tr>\n",
              "    <tr>\n",
              "      <th>Date</th>\n",
              "      <th></th>\n",
              "      <th></th>\n",
              "    </tr>\n",
              "  </thead>\n",
              "  <tbody>\n",
              "    <tr>\n",
              "      <th>20-01-07</th>\n",
              "      <td>1585.23</td>\n",
              "      <td>NaN</td>\n",
              "    </tr>\n",
              "    <tr>\n",
              "      <th>20-01-08</th>\n",
              "      <td>1559.27</td>\n",
              "      <td>-0.016376</td>\n",
              "    </tr>\n",
              "    <tr>\n",
              "      <th>20-01-09</th>\n",
              "      <td>1579.64</td>\n",
              "      <td>0.013064</td>\n",
              "    </tr>\n",
              "    <tr>\n",
              "      <th>20-01-10</th>\n",
              "      <td>1580.63</td>\n",
              "      <td>0.000627</td>\n",
              "    </tr>\n",
              "    <tr>\n",
              "      <th>20-01-13</th>\n",
              "      <td>1586.16</td>\n",
              "      <td>0.003499</td>\n",
              "    </tr>\n",
              "  </tbody>\n",
              "</table>\n",
              "</div>"
            ],
            "text/plain": [
              "          SET_INDEX  daily_return\n",
              "Date                             \n",
              "20-01-07    1585.23           NaN\n",
              "20-01-08    1559.27     -0.016376\n",
              "20-01-09    1579.64      0.013064\n",
              "20-01-10    1580.63      0.000627\n",
              "20-01-13    1586.16      0.003499"
            ]
          },
          "metadata": {
            "tags": []
          },
          "execution_count": 8
        }
      ]
    },
    {
      "cell_type": "code",
      "metadata": {
        "id": "b76RHRDk0MyU",
        "outputId": "848a924d-a19e-4425-eb41-11fb03f88808",
        "colab": {
          "base_uri": "https://localhost:8080/",
          "height": 331
        }
      },
      "source": [
        "num_bins = 20\n",
        "plt.hist(df['daily_return'], bins=num_bins)\n",
        "\n",
        "plt.show()"
      ],
      "execution_count": null,
      "outputs": [
        {
          "output_type": "stream",
          "text": [
            "/usr/local/lib/python3.6/dist-packages/numpy/lib/histograms.py:839: RuntimeWarning: invalid value encountered in greater_equal\n",
            "  keep = (tmp_a >= first_edge)\n",
            "/usr/local/lib/python3.6/dist-packages/numpy/lib/histograms.py:840: RuntimeWarning: invalid value encountered in less_equal\n",
            "  keep &= (tmp_a <= last_edge)\n"
          ],
          "name": "stderr"
        },
        {
          "output_type": "display_data",
          "data": {
            "image/png": "[encoded data removed]",
            "text/plain": [
              "<Figure size 432x288 with 1 Axes>"
            ]
          },
          "metadata": {
            "tags": [],
            "needs_background": "light"
          }
        }
      ]
    },
    {
      "cell_type": "code",
      "metadata": {
        "id": "QTJ5HI9s0hfC",
        "outputId": "6056261c-bafe-42d9-db2e-6361c9f05fdb",
        "colab": {
          "base_uri": "https://localhost:8080/",
          "height": 331
        }
      },
      "source": [
        "num_bins = 20\n",
        "plt.hist(df['daily_return'], bins=num_bins)\n",
        "\n",
        "y = np.linspace(-3, 3, 100) # Return evenly spaced numbers over a specified interval\n",
        "bin_width = (df['daily_return'].max() - df['daily_return'].min()) / num_bins\n",
        "\n",
        "plt.plot(y, stats.norm.pdf(y) * N * bin_width) # Plot normal curve using p.d.f. calculated from scipy stats\n",
        "\n",
        "plt.show()"
      ],
      "execution_count": null,
      "outputs": [
        {
          "output_type": "stream",
          "text": [
            "/usr/local/lib/python3.6/dist-packages/numpy/lib/histograms.py:839: RuntimeWarning: invalid value encountered in greater_equal\n",
            "  keep = (tmp_a >= first_edge)\n",
            "/usr/local/lib/python3.6/dist-packages/numpy/lib/histograms.py:840: RuntimeWarning: invalid value encountered in less_equal\n",
            "  keep &= (tmp_a <= last_edge)\n"
          ],
          "name": "stderr"
        },
        {
          "output_type": "display_data",
          "data": {
            "image/png": "[encoded data removed]",
            "text/plain": [
              "<Figure size 432x288 with 1 Axes>"
            ]
          },
          "metadata": {
            "tags": [],
            "needs_background": "light"
          }
        }
      ]
    },
    {
      "cell_type": "markdown",
      "metadata": {
        "id": "COrSZ4ojB7m1"
      },
      "source": [
        "This distribution is extremely far from normal, so we could not say that during this year SET return is expected to be normally distributed.   \n",
        "After seeing these two plots, please pause the video and think about its mean, standard deviation, skewness and kurtosis."
      ]
    },
    {
      "cell_type": "code",
      "metadata": {
        "id": "3yX376lX0ujy",
        "outputId": "abbc29bf-ba63-47e3-82b7-03c5670615a0",
        "colab": {
          "base_uri": "https://localhost:8080/"
        }
      },
      "source": [
        "mean = df['daily_return'].mean()\n",
        "std = df['daily_return'].std()\n",
        "\n",
        "print(\"SET Daily Return has mean {:.2f} and std {:.2f}.\".format(mean, std))"
      ],
      "execution_count": null,
      "outputs": [
        {
          "output_type": "stream",
          "text": [
            "SET Daily Return has mean -0.00 and std 0.02.\n"
          ],
          "name": "stdout"
        }
      ]
    },
    {
      "cell_type": "code",
      "metadata": {
        "id": "3BPECw-_1Pfx",
        "outputId": "c6bca492-b4e2-40bb-ac0e-be7344a870ee",
        "colab": {
          "base_uri": "https://localhost:8080/"
        }
      },
      "source": [
        "skew = df['daily_return'].skew()\n",
        "kurtosis = df['daily_return'].kurtosis()\n",
        "\n",
        "print(\"SET Daily Return has skewness {:.2f} and kurtosis {:.2f}.\".format(skew, kurtosis))\n"
      ],
      "execution_count": null,
      "outputs": [
        {
          "output_type": "stream",
          "text": [
            "SET Daily Return has skewness -1.61 and kurtosis 10.21.\n"
          ],
          "name": "stdout"
        }
      ]
    },
    {
      "cell_type": "code",
      "metadata": {
        "id": "Pmkbtc1D1qaZ",
        "outputId": "3d8d4861-6a0e-4ec7-be96-12474dcb06ca",
        "colab": {
          "base_uri": "https://localhost:8080/",
          "height": 227
        }
      },
      "source": [
        "import numpy as np\n",
        "df['log_return'] = np.log(1+df['daily_return'])\n",
        "df.head()"
      ],
      "execution_count": null,
      "outputs": [
        {
          "output_type": "execute_result",
          "data": {
            "text/html": [
              "<div>\n",
              "<style scoped>\n",
              "    .dataframe tbody tr th:only-of-type {\n",
              "        vertical-align: middle;\n",
              "    }\n",
              "\n",
              "    .dataframe tbody tr th {\n",
              "        vertical-align: top;\n",
              "    }\n",
              "\n",
              "    .dataframe thead th {\n",
              "        text-align: right;\n",
              "    }\n",
              "</style>\n",
              "<table border=\"1\" class=\"dataframe\">\n",
              "  <thead>\n",
              "    <tr style=\"text-align: right;\">\n",
              "      <th></th>\n",
              "      <th>SET_INDEX</th>\n",
              "      <th>daily_return</th>\n",
              "      <th>log_return</th>\n",
              "    </tr>\n",
              "    <tr>\n",
              "      <th>Date</th>\n",
              "      <th></th>\n",
              "      <th></th>\n",
              "      <th></th>\n",
              "    </tr>\n",
              "  </thead>\n",
              "  <tbody>\n",
              "    <tr>\n",
              "      <th>20-01-07</th>\n",
              "      <td>1585.23</td>\n",
              "      <td>NaN</td>\n",
              "      <td>NaN</td>\n",
              "    </tr>\n",
              "    <tr>\n",
              "      <th>20-01-08</th>\n",
              "      <td>1559.27</td>\n",
              "      <td>-0.016376</td>\n",
              "      <td>-0.016512</td>\n",
              "    </tr>\n",
              "    <tr>\n",
              "      <th>20-01-09</th>\n",
              "      <td>1579.64</td>\n",
              "      <td>0.013064</td>\n",
              "      <td>0.012979</td>\n",
              "    </tr>\n",
              "    <tr>\n",
              "      <th>20-01-10</th>\n",
              "      <td>1580.63</td>\n",
              "      <td>0.000627</td>\n",
              "      <td>0.000627</td>\n",
              "    </tr>\n",
              "    <tr>\n",
              "      <th>20-01-13</th>\n",
              "      <td>1586.16</td>\n",
              "      <td>0.003499</td>\n",
              "      <td>0.003492</td>\n",
              "    </tr>\n",
              "  </tbody>\n",
              "</table>\n",
              "</div>"
            ],
            "text/plain": [
              "          SET_INDEX  daily_return  log_return\n",
              "Date                                         \n",
              "20-01-07    1585.23           NaN         NaN\n",
              "20-01-08    1559.27     -0.016376   -0.016512\n",
              "20-01-09    1579.64      0.013064    0.012979\n",
              "20-01-10    1580.63      0.000627    0.000627\n",
              "20-01-13    1586.16      0.003499    0.003492"
            ]
          },
          "metadata": {
            "tags": []
          },
          "execution_count": 21
        }
      ]
    },
    {
      "cell_type": "code",
      "metadata": {
        "id": "Tm4FJpjd13s9",
        "outputId": "7ee64748-35ec-4938-9296-e7c55c6866bd",
        "colab": {
          "base_uri": "https://localhost:8080/",
          "height": 331
        }
      },
      "source": [
        "num_bins = 20\n",
        "plt.hist(df['log_return'], bins=num_bins)\n",
        "\n",
        "plt.show()"
      ],
      "execution_count": null,
      "outputs": [
        {
          "output_type": "stream",
          "text": [
            "/usr/local/lib/python3.6/dist-packages/numpy/lib/histograms.py:839: RuntimeWarning: invalid value encountered in greater_equal\n",
            "  keep = (tmp_a >= first_edge)\n",
            "/usr/local/lib/python3.6/dist-packages/numpy/lib/histograms.py:840: RuntimeWarning: invalid value encountered in less_equal\n",
            "  keep &= (tmp_a <= last_edge)\n"
          ],
          "name": "stderr"
        },
        {
          "output_type": "display_data",
          "data": {
            "image/png": "[encoded data removed]",
            "text/plain": [
              "<Figure size 432x288 with 1 Axes>"
            ]
          },
          "metadata": {
            "tags": [],
            "needs_background": "light"
          }
        }
      ]
    },
    {
      "cell_type": "code",
      "metadata": {
        "id": "2QO0zjmy19SZ",
        "outputId": "e902f0e2-6e37-4ad2-e1fe-03296157de42",
        "colab": {
          "base_uri": "https://localhost:8080/",
          "height": 331
        }
      },
      "source": [
        "num_bins = 20\n",
        "plt.hist(df['log_return'], bins=num_bins)\n",
        "\n",
        "y = np.linspace(-3, 3, 100) # Return evenly spaced numbers over a specified interval\n",
        "bin_width = (df['log_return'].max() - df['log_return'].min()) / num_bins\n",
        "\n",
        "plt.plot(y, stats.norm.pdf(y) * N * bin_width) # Plot normal curve using p.d.f. calculated from scipy stats\n",
        "\n",
        "plt.show()"
      ],
      "execution_count": null,
      "outputs": [
        {
          "output_type": "stream",
          "text": [
            "/usr/local/lib/python3.6/dist-packages/numpy/lib/histograms.py:839: RuntimeWarning: invalid value encountered in greater_equal\n",
            "  keep = (tmp_a >= first_edge)\n",
            "/usr/local/lib/python3.6/dist-packages/numpy/lib/histograms.py:840: RuntimeWarning: invalid value encountered in less_equal\n",
            "  keep &= (tmp_a <= last_edge)\n"
          ],
          "name": "stderr"
        },
        {
          "output_type": "display_data",
          "data": {
            "image/png": "[encoded data removed]",
            "text/plain": [
              "<Figure size 432x288 with 1 Axes>"
            ]
          },
          "metadata": {
            "tags": [],
            "needs_background": "light"
          }
        }
      ]
    },
    {
      "cell_type": "code",
      "metadata": {
        "id": "gIQy7znH2IDp",
        "outputId": "353accc5-eece-44f2-aff0-ca89a5da34ff",
        "colab": {
          "base_uri": "https://localhost:8080/"
        }
      },
      "source": [
        "mean = df['log_return'].mean()\n",
        "std = df['log_return'].std()\n",
        "skew = df['log_return'].skew()\n",
        "kurtosis = df['log_return'].kurtosis()\n",
        "\n",
        "\n",
        "print(\"SET Daily Return has mean {:.2f} and std {:.2f}.\".format(mean, std))\n",
        "print(\"SET Daily Return has skewness {:.2f} and kurtosis {:.2f}.\".format(skew, kurtosis))"
      ],
      "execution_count": null,
      "outputs": [
        {
          "output_type": "stream",
          "text": [
            "SET Daily Return has mean -0.00 and std 0.02.\n",
            "SET Daily Return has skewness -1.90 and kurtosis 11.06.\n"
          ],
          "name": "stdout"
        }
      ]
    },
    {
      "cell_type": "code",
      "metadata": {
        "id": "sHLL7LLp2ki5"
      },
      "source": [
        "positive_return = df[df[\"log_return\"] > 0]\n",
        "negative_return = df[df[\"log_return\"] < 0]"
      ],
      "execution_count": null,
      "outputs": []
    },
    {
      "cell_type": "code",
      "metadata": {
        "id": "pXQNnH872vfn",
        "outputId": "1fa054fc-c21b-48e5-b850-cbdb331edc30",
        "colab": {
          "base_uri": "https://localhost:8080/"
        }
      },
      "source": [
        "mean = positive_return['log_return'].mean()\n",
        "std = positive_return['log_return'].std()\n",
        "skew = positive_return['log_return'].skew()\n",
        "kurtosis = positive_return['log_return'].kurtosis()\n",
        "\n",
        "\n",
        "print(\"SET Daily Return has mean {:.2f} and std {:.2f}.\".format(mean, std))\n",
        "print(\"SET Daily Return has skewness {:.2f} and kurtosis {:.2f}.\".format(skew, kurtosis))"
      ],
      "execution_count": null,
      "outputs": [
        {
          "output_type": "stream",
          "text": [
            "SET Daily Return has mean 0.01 and std 0.01.\n",
            "SET Daily Return has skewness 3.11 and kurtosis 12.67.\n"
          ],
          "name": "stdout"
        }
      ]
    },
    {
      "cell_type": "code",
      "metadata": {
        "id": "KENCIaLf23l1",
        "outputId": "b19bcab7-c66d-4273-909b-7dac502c3d6e",
        "colab": {
          "base_uri": "https://localhost:8080/"
        }
      },
      "source": [
        "mean = negative_return['log_return'].mean()\n",
        "std = negative_return['log_return'].std()\n",
        "skew = negative_return['log_return'].skew()\n",
        "kurtosis = negative_return['log_return'].kurtosis()\n",
        "\n",
        "\n",
        "print(\"SET Daily Return has mean {:.2f} and std {:.2f}.\".format(mean, std))\n",
        "print(\"SET Daily Return has skewness {:.2f} and kurtosis {:.2f}.\".format(skew, kurtosis))"
      ],
      "execution_count": null,
      "outputs": [
        {
          "output_type": "stream",
          "text": [
            "SET Daily Return has mean -0.01 and std 0.02.\n",
            "SET Daily Return has skewness -3.49 and kurtosis 12.56.\n"
          ],
          "name": "stdout"
        }
      ]
    },
    {
      "cell_type": "markdown",
      "metadata": {
        "id": "0tnTqJsvCT97"
      },
      "source": [
        "In summary, both returns and log returns are far from being normal. It has mean zero, implying that on average, we could not expect to get profit from investing in SET. It has extremely low S.D., implying that luck is relatively rare in SET. It has negative skewness, implying that there is higher chance of being broke from the investment than getting lucky and reaping high returns. It has extremely high kurtosis, implying that the chance of extreme events is not that extreme at all."
      ]
    },
    {
      "cell_type": "code",
      "metadata": {
        "id": "HzZM4eqN3pDI",
        "outputId": "818a6655-57ea-4bcf-ada1-a0577dd76ed2",
        "colab": {
          "base_uri": "https://localhost:8080/",
          "height": 227
        }
      },
      "source": [
        "df['Date'] = pd.to_datetime(df.index, yearfirst = True)\n",
        "df.head()"
      ],
      "execution_count": null,
      "outputs": [
        {
          "output_type": "execute_result",
          "data": {
            "text/html": [
              "<div>\n",
              "<style scoped>\n",
              "    .dataframe tbody tr th:only-of-type {\n",
              "        vertical-align: middle;\n",
              "    }\n",
              "\n",
              "    .dataframe tbody tr th {\n",
              "        vertical-align: top;\n",
              "    }\n",
              "\n",
              "    .dataframe thead th {\n",
              "        text-align: right;\n",
              "    }\n",
              "</style>\n",
              "<table border=\"1\" class=\"dataframe\">\n",
              "  <thead>\n",
              "    <tr style=\"text-align: right;\">\n",
              "      <th></th>\n",
              "      <th>SET_INDEX</th>\n",
              "      <th>daily_return</th>\n",
              "      <th>log_return</th>\n",
              "      <th>Date</th>\n",
              "    </tr>\n",
              "    <tr>\n",
              "      <th>Date</th>\n",
              "      <th></th>\n",
              "      <th></th>\n",
              "      <th></th>\n",
              "      <th></th>\n",
              "    </tr>\n",
              "  </thead>\n",
              "  <tbody>\n",
              "    <tr>\n",
              "      <th>20-01-07</th>\n",
              "      <td>1585.23</td>\n",
              "      <td>NaN</td>\n",
              "      <td>NaN</td>\n",
              "      <td>2020-01-07</td>\n",
              "    </tr>\n",
              "    <tr>\n",
              "      <th>20-01-08</th>\n",
              "      <td>1559.27</td>\n",
              "      <td>-0.016376</td>\n",
              "      <td>-0.016512</td>\n",
              "      <td>2020-01-08</td>\n",
              "    </tr>\n",
              "    <tr>\n",
              "      <th>20-01-09</th>\n",
              "      <td>1579.64</td>\n",
              "      <td>0.013064</td>\n",
              "      <td>0.012979</td>\n",
              "      <td>2020-01-09</td>\n",
              "    </tr>\n",
              "    <tr>\n",
              "      <th>20-01-10</th>\n",
              "      <td>1580.63</td>\n",
              "      <td>0.000627</td>\n",
              "      <td>0.000627</td>\n",
              "      <td>2020-01-10</td>\n",
              "    </tr>\n",
              "    <tr>\n",
              "      <th>20-01-13</th>\n",
              "      <td>1586.16</td>\n",
              "      <td>0.003499</td>\n",
              "      <td>0.003492</td>\n",
              "      <td>2020-01-13</td>\n",
              "    </tr>\n",
              "  </tbody>\n",
              "</table>\n",
              "</div>"
            ],
            "text/plain": [
              "          SET_INDEX  daily_return  log_return       Date\n",
              "Date                                                    \n",
              "20-01-07    1585.23           NaN         NaN 2020-01-07\n",
              "20-01-08    1559.27     -0.016376   -0.016512 2020-01-08\n",
              "20-01-09    1579.64      0.013064    0.012979 2020-01-09\n",
              "20-01-10    1580.63      0.000627    0.000627 2020-01-10\n",
              "20-01-13    1586.16      0.003499    0.003492 2020-01-13"
            ]
          },
          "metadata": {
            "tags": []
          },
          "execution_count": 31
        }
      ]
    },
    {
      "cell_type": "code",
      "metadata": {
        "id": "eY3qus-54UMa",
        "outputId": "34a2ead3-b67b-44b0-8285-4a88d5e2fdab",
        "colab": {
          "base_uri": "https://localhost:8080/",
          "height": 281
        }
      },
      "source": [
        "plt.plot(df['Date'], df['SET_INDEX'])"
      ],
      "execution_count": null,
      "outputs": [
        {
          "output_type": "execute_result",
          "data": {
            "text/plain": [
              "[<matplotlib.lines.Line2D at 0x7f1663812c50>]"
            ]
          },
          "metadata": {
            "tags": []
          },
          "execution_count": 32
        },
        {
          "output_type": "display_data",
          "data": {
            "image/png": "[encoded data removed]",
            "text/plain": [
              "<Figure size 432x288 with 1 Axes>"
            ]
          },
          "metadata": {
            "tags": [],
            "needs_background": "light"
          }
        }
      ]
    },
    {
      "cell_type": "code",
      "metadata": {
        "id": "dIsg-mYW4bqi",
        "outputId": "3504f599-795e-4128-e5b3-f6a9d46b6457",
        "colab": {
          "base_uri": "https://localhost:8080/",
          "height": 281
        }
      },
      "source": [
        "plt.plot(df['Date'], df['daily_return'])"
      ],
      "execution_count": null,
      "outputs": [
        {
          "output_type": "execute_result",
          "data": {
            "text/plain": [
              "[<matplotlib.lines.Line2D at 0x7f16639a5668>]"
            ]
          },
          "metadata": {
            "tags": []
          },
          "execution_count": 33
        },
        {
          "output_type": "display_data",
          "data": {
            "image/png": "[encoded data removed]",
            "text/plain": [
              "<Figure size 432x288 with 1 Axes>"
            ]
          },
          "metadata": {
            "tags": [],
            "needs_background": "light"
          }
        }
      ]
    },
    {
      "cell_type": "code",
      "metadata": {
        "id": "Ikt4N-wy4h88",
        "outputId": "202fef69-51bd-4e56-e5c2-8096cac72bf2",
        "colab": {
          "base_uri": "https://localhost:8080/",
          "height": 281
        }
      },
      "source": [
        "plt.plot(df['Date'], df['log_return'])"
      ],
      "execution_count": null,
      "outputs": [
        {
          "output_type": "execute_result",
          "data": {
            "text/plain": [
              "[<matplotlib.lines.Line2D at 0x7f166374f438>]"
            ]
          },
          "metadata": {
            "tags": []
          },
          "execution_count": 34
        },
        {
          "output_type": "display_data",
          "data": {
            "image/png": "[encoded data removed]",
            "text/plain": [
              "<Figure size 432x288 with 1 Axes>"
            ]
          },
          "metadata": {
            "tags": [],
            "needs_background": "light"
          }
        }
      ]
    },
    {
      "cell_type": "markdown",
      "metadata": {
        "id": "Zz3WSP_UC3x2"
      },
      "source": [
        "Can you see the full picture of Thai SET Index now? Before you jump into any investments, it is good idea to conduct preliminary exploration of data first to get general overview of the asset you are interested in. However, this is still the first step. In order to conduct investments in stock market, we should drill down into sectors and companies that we believe have strong fundamentals. In addition, models should be constructed in order to see what factors could explain stock market returns. However, all of these are beyond the scope of probability theory."
      ]
    }
  ]
}